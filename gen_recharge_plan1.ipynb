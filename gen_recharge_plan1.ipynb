{
 "cells": [
  {
   "cell_type": "markdown",
   "metadata": {},
   "source": [
    "Recharge plan generation:"
   ]
  },
  {
   "cell_type": "markdown",
   "metadata": {},
   "source": [
    "A Telecom company operates in various regions of the country and these regions are idetified as circles. Th company maintains the details of all its customers and their services. It has various requirements for which we need to genearte reports.\n",
    "\n",
    "1. To generate service file usage per circle on monthly basis.\n",
    "\n",
    "2. To generate service file usage per customer on monthly basis.\n",
    "\n",
    "3. To suggest an appropriate recharge plan to the customer based on his service usage for his upcoming month."
   ]
  },
  {
   "cell_type": "markdown",
   "metadata": {},
   "source": [
    "1. Importing Libraries and Packages"
   ]
  },
  {
   "cell_type": "markdown",
   "metadata": {},
   "source": [
    "  First_step : To export all the necessary packages. In machine learning terms it’s called – EDA (exploratory Data Analysis)"
   ]
  },
  {
   "cell_type": "code",
   "execution_count": 31,
   "metadata": {},
   "outputs": [],
   "source": [
    "\n",
    "import pandas as pd\n",
    "import os\n",
    "from matplotlib import pyplot as ply\n"
   ]
  },
  {
   "cell_type": "code",
   "execution_count": 32,
   "metadata": {},
   "outputs": [
    {
     "name": "stdout",
     "output_type": "stream",
     "text": [
      "['master_data.xlsx', 'monthly_data.xlsx']\n"
     ]
    }
   ],
   "source": [
    "print(os.listdir(\"C:/Users/mkiranmayi/Desktop/recharge_plan\"))"
   ]
  },
  {
   "cell_type": "markdown",
   "metadata": {},
   "source": [
    "2. Loading and Viewing Data Set"
   ]
  },
  {
   "cell_type": "markdown",
   "metadata": {},
   "source": [
    "Now we are loading our datasets into pandas framework.\n",
    "    \n",
    "  1. recharge dataset into daily_data.\n",
    "  2. master_file dataset into master_file_data"
   ]
  },
  {
   "cell_type": "code",
   "execution_count": 35,
   "metadata": {},
   "outputs": [],
   "source": [
    "master_data = pd.read_excel('C:/Users/mkiranmayi/Desktop/recharge_plan/master_data.xlsx')    \n",
    "daily_data = pd.read_excel('C:/Users/mkiranmayi/Desktop/recharge_plan/monthly_data.xlsx')\n",
    "                           "
   ]
  },
  {
   "cell_type": "markdown",
   "metadata": {},
   "source": [
    "Now to check whether our datasets are correctly loaded or not. we use head() which displays the first five rows of pandas framework "
   ]
  },
  {
   "cell_type": "code",
   "execution_count": 36,
   "metadata": {
    "scrolled": true
   },
   "outputs": [
    {
     "data": {
      "text/html": [
       "<div>\n",
       "<style scoped>\n",
       "    .dataframe tbody tr th:only-of-type {\n",
       "        vertical-align: middle;\n",
       "    }\n",
       "\n",
       "    .dataframe tbody tr th {\n",
       "        vertical-align: top;\n",
       "    }\n",
       "\n",
       "    .dataframe thead th {\n",
       "        text-align: right;\n",
       "    }\n",
       "</style>\n",
       "<table border=\"1\" class=\"dataframe\">\n",
       "  <thead>\n",
       "    <tr style=\"text-align: right;\">\n",
       "      <th></th>\n",
       "      <th>Unnamed: 0</th>\n",
       "      <th>plan_id</th>\n",
       "      <th>voice_usage</th>\n",
       "      <th>data_usage</th>\n",
       "      <th>roaming_percentage</th>\n",
       "      <th>amount</th>\n",
       "    </tr>\n",
       "  </thead>\n",
       "  <tbody>\n",
       "    <tr>\n",
       "      <th>0</th>\n",
       "      <td>0</td>\n",
       "      <td>RC07</td>\n",
       "      <td>100</td>\n",
       "      <td>500</td>\n",
       "      <td>30</td>\n",
       "      <td>70</td>\n",
       "    </tr>\n",
       "    <tr>\n",
       "      <th>1</th>\n",
       "      <td>1</td>\n",
       "      <td>RC28</td>\n",
       "      <td>200</td>\n",
       "      <td>1000</td>\n",
       "      <td>30</td>\n",
       "      <td>280</td>\n",
       "    </tr>\n",
       "    <tr>\n",
       "      <th>2</th>\n",
       "      <td>2</td>\n",
       "      <td>RC44</td>\n",
       "      <td>300</td>\n",
       "      <td>1500</td>\n",
       "      <td>0</td>\n",
       "      <td>440</td>\n",
       "    </tr>\n",
       "    <tr>\n",
       "      <th>3</th>\n",
       "      <td>3</td>\n",
       "      <td>RC01</td>\n",
       "      <td>100</td>\n",
       "      <td>0</td>\n",
       "      <td>0</td>\n",
       "      <td>10</td>\n",
       "    </tr>\n",
       "    <tr>\n",
       "      <th>4</th>\n",
       "      <td>4</td>\n",
       "      <td>RC02</td>\n",
       "      <td>100</td>\n",
       "      <td>500</td>\n",
       "      <td>0</td>\n",
       "      <td>20</td>\n",
       "    </tr>\n",
       "  </tbody>\n",
       "</table>\n",
       "</div>"
      ],
      "text/plain": [
       "   Unnamed: 0 plan_id  voice_usage  data_usage  roaming_percentage  amount\n",
       "0           0    RC07          100         500                  30      70\n",
       "1           1    RC28          200        1000                  30     280\n",
       "2           2    RC44          300        1500                   0     440\n",
       "3           3    RC01          100           0                   0      10\n",
       "4           4    RC02          100         500                   0      20"
      ]
     },
     "execution_count": 36,
     "metadata": {},
     "output_type": "execute_result"
    }
   ],
   "source": [
    "master_data.head()"
   ]
  },
  {
   "cell_type": "code",
   "execution_count": 37,
   "metadata": {},
   "outputs": [
    {
     "data": {
      "text/html": [
       "<div>\n",
       "<style scoped>\n",
       "    .dataframe tbody tr th:only-of-type {\n",
       "        vertical-align: middle;\n",
       "    }\n",
       "\n",
       "    .dataframe tbody tr th {\n",
       "        vertical-align: top;\n",
       "    }\n",
       "\n",
       "    .dataframe thead th {\n",
       "        text-align: right;\n",
       "    }\n",
       "</style>\n",
       "<table border=\"1\" class=\"dataframe\">\n",
       "  <thead>\n",
       "    <tr style=\"text-align: right;\">\n",
       "      <th></th>\n",
       "      <th>Unnamed: 0</th>\n",
       "      <th>phone_number</th>\n",
       "      <th>data_usage</th>\n",
       "      <th>voice_usage</th>\n",
       "      <th>Home_circle</th>\n",
       "      <th>Active_circle</th>\n",
       "      <th>no_of_calls</th>\n",
       "      <th>calls_connected</th>\n",
       "    </tr>\n",
       "  </thead>\n",
       "  <tbody>\n",
       "    <tr>\n",
       "      <th>0</th>\n",
       "      <td>0</td>\n",
       "      <td>9876543210</td>\n",
       "      <td>1380</td>\n",
       "      <td>120</td>\n",
       "      <td>Telangana</td>\n",
       "      <td>Maharashtra</td>\n",
       "      <td>12</td>\n",
       "      <td>10</td>\n",
       "    </tr>\n",
       "    <tr>\n",
       "      <th>1</th>\n",
       "      <td>1</td>\n",
       "      <td>8876553210</td>\n",
       "      <td>400</td>\n",
       "      <td>120</td>\n",
       "      <td>Maharashtra</td>\n",
       "      <td>Maharashtra</td>\n",
       "      <td>19</td>\n",
       "      <td>11</td>\n",
       "    </tr>\n",
       "    <tr>\n",
       "      <th>2</th>\n",
       "      <td>2</td>\n",
       "      <td>7876553210</td>\n",
       "      <td>1500</td>\n",
       "      <td>180</td>\n",
       "      <td>Punjab</td>\n",
       "      <td>Karanataka</td>\n",
       "      <td>77</td>\n",
       "      <td>67</td>\n",
       "    </tr>\n",
       "    <tr>\n",
       "      <th>3</th>\n",
       "      <td>3</td>\n",
       "      <td>7876553210</td>\n",
       "      <td>800</td>\n",
       "      <td>157</td>\n",
       "      <td>Maharashtra</td>\n",
       "      <td>Karanataka</td>\n",
       "      <td>20</td>\n",
       "      <td>17</td>\n",
       "    </tr>\n",
       "    <tr>\n",
       "      <th>4</th>\n",
       "      <td>4</td>\n",
       "      <td>8886553210</td>\n",
       "      <td>1234</td>\n",
       "      <td>111</td>\n",
       "      <td>Karnataka</td>\n",
       "      <td>Kolkata</td>\n",
       "      <td>89</td>\n",
       "      <td>80</td>\n",
       "    </tr>\n",
       "  </tbody>\n",
       "</table>\n",
       "</div>"
      ],
      "text/plain": [
       "   Unnamed: 0  phone_number  data_usage  voice_usage  Home_circle  \\\n",
       "0           0    9876543210        1380          120    Telangana   \n",
       "1           1    8876553210         400          120  Maharashtra   \n",
       "2           2    7876553210        1500          180       Punjab   \n",
       "3           3    7876553210         800          157  Maharashtra   \n",
       "4           4    8886553210        1234          111    Karnataka   \n",
       "\n",
       "  Active_circle  no_of_calls  calls_connected  \n",
       "0   Maharashtra           12               10  \n",
       "1   Maharashtra           19               11  \n",
       "2    Karanataka           77               67  \n",
       "3    Karanataka           20               17  \n",
       "4       Kolkata           89               80  "
      ]
     },
     "execution_count": 37,
     "metadata": {},
     "output_type": "execute_result"
    }
   ],
   "source": [
    "daily_data.head()"
   ]
  },
  {
   "cell_type": "markdown",
   "metadata": {},
   "source": [
    "Now we are able to see the first five rows of daily_data and master_file data."
   ]
  },
  {
   "cell_type": "markdown",
   "metadata": {},
   "source": [
    " We can also find the columns in a dataset by using keys() method."
   ]
  },
  {
   "cell_type": "code",
   "execution_count": 61,
   "metadata": {},
   "outputs": [
    {
     "name": "stdout",
     "output_type": "stream",
     "text": [
      "columns of master_file are:\n",
      "Index(['Unnamed: 0', 'plan_id', 'voice_usage', 'data_usage',\n",
      "       'roaming_percentage', 'amount'],\n",
      "      dtype='object')\n",
      "columns of daily_data_file are:\n",
      "Index(['Unnamed: 0', 'phone_number', 'data_usage', 'voice_usage',\n",
      "       'Home_circle', 'Active_circle', 'no_of_calls', 'calls_connected',\n",
      "       'Roaming_flag', 'call_drop'],\n",
      "      dtype='object')\n"
     ]
    }
   ],
   "source": [
    "print('columns of master_file are:')\n",
    "print(master_data.keys())\n",
    "print('columns of daily_data_file are:')\n",
    "print(daily_data.keys())"
   ]
  },
  {
   "cell_type": "markdown",
   "metadata": {},
   "source": [
    "\n",
    "\n",
    "Finding the numerical columns using dtype attributes."
   ]
  },
  {
   "cell_type": "markdown",
   "metadata": {},
   "source": [
    "Getting the stastical summary of master_data to understand the variables, so that it will give good insight about our numerical columns."
   ]
  },
  {
   "cell_type": "markdown",
   "metadata": {},
   "source": [
    "Here we are not able to see any numerical columns in our daily_data dataset."
   ]
  },
  {
   "cell_type": "markdown",
   "metadata": {},
   "source": [
    "For that we use decribe() method "
   ]
  },
  {
   "cell_type": "code",
   "execution_count": 39,
   "metadata": {},
   "outputs": [
    {
     "data": {
      "text/html": [
       "<div>\n",
       "<style scoped>\n",
       "    .dataframe tbody tr th:only-of-type {\n",
       "        vertical-align: middle;\n",
       "    }\n",
       "\n",
       "    .dataframe tbody tr th {\n",
       "        vertical-align: top;\n",
       "    }\n",
       "\n",
       "    .dataframe thead th {\n",
       "        text-align: right;\n",
       "    }\n",
       "</style>\n",
       "<table border=\"1\" class=\"dataframe\">\n",
       "  <thead>\n",
       "    <tr style=\"text-align: right;\">\n",
       "      <th></th>\n",
       "      <th>Unnamed: 0</th>\n",
       "      <th>phone_number</th>\n",
       "      <th>data_usage</th>\n",
       "      <th>voice_usage</th>\n",
       "      <th>no_of_calls</th>\n",
       "      <th>calls_connected</th>\n",
       "    </tr>\n",
       "  </thead>\n",
       "  <tbody>\n",
       "    <tr>\n",
       "      <th>count</th>\n",
       "      <td>6.000000</td>\n",
       "      <td>6.000000e+00</td>\n",
       "      <td>6.000000</td>\n",
       "      <td>6.000000</td>\n",
       "      <td>6.000000</td>\n",
       "      <td>6.000000</td>\n",
       "    </tr>\n",
       "    <tr>\n",
       "      <th>mean</th>\n",
       "      <td>2.500000</td>\n",
       "      <td>8.713218e+09</td>\n",
       "      <td>919.000000</td>\n",
       "      <td>131.333333</td>\n",
       "      <td>39.833333</td>\n",
       "      <td>32.833333</td>\n",
       "    </tr>\n",
       "    <tr>\n",
       "      <th>std</th>\n",
       "      <td>1.870829</td>\n",
       "      <td>7.536724e+08</td>\n",
       "      <td>538.477483</td>\n",
       "      <td>30.591938</td>\n",
       "      <td>33.819620</td>\n",
       "      <td>31.858542</td>\n",
       "    </tr>\n",
       "    <tr>\n",
       "      <th>min</th>\n",
       "      <td>0.000000</td>\n",
       "      <td>7.876553e+09</td>\n",
       "      <td>200.000000</td>\n",
       "      <td>100.000000</td>\n",
       "      <td>12.000000</td>\n",
       "      <td>10.000000</td>\n",
       "    </tr>\n",
       "    <tr>\n",
       "      <th>25%</th>\n",
       "      <td>1.250000</td>\n",
       "      <td>8.126553e+09</td>\n",
       "      <td>500.000000</td>\n",
       "      <td>113.250000</td>\n",
       "      <td>19.250000</td>\n",
       "      <td>11.250000</td>\n",
       "    </tr>\n",
       "    <tr>\n",
       "      <th>50%</th>\n",
       "      <td>2.500000</td>\n",
       "      <td>8.881553e+09</td>\n",
       "      <td>1017.000000</td>\n",
       "      <td>120.000000</td>\n",
       "      <td>21.000000</td>\n",
       "      <td>14.500000</td>\n",
       "    </tr>\n",
       "    <tr>\n",
       "      <th>75%</th>\n",
       "      <td>3.750000</td>\n",
       "      <td>8.886553e+09</td>\n",
       "      <td>1343.500000</td>\n",
       "      <td>147.750000</td>\n",
       "      <td>63.250000</td>\n",
       "      <td>54.500000</td>\n",
       "    </tr>\n",
       "    <tr>\n",
       "      <th>max</th>\n",
       "      <td>5.000000</td>\n",
       "      <td>9.876543e+09</td>\n",
       "      <td>1500.000000</td>\n",
       "      <td>180.000000</td>\n",
       "      <td>89.000000</td>\n",
       "      <td>80.000000</td>\n",
       "    </tr>\n",
       "  </tbody>\n",
       "</table>\n",
       "</div>"
      ],
      "text/plain": [
       "       Unnamed: 0  phone_number   data_usage  voice_usage  no_of_calls  \\\n",
       "count    6.000000  6.000000e+00     6.000000     6.000000     6.000000   \n",
       "mean     2.500000  8.713218e+09   919.000000   131.333333    39.833333   \n",
       "std      1.870829  7.536724e+08   538.477483    30.591938    33.819620   \n",
       "min      0.000000  7.876553e+09   200.000000   100.000000    12.000000   \n",
       "25%      1.250000  8.126553e+09   500.000000   113.250000    19.250000   \n",
       "50%      2.500000  8.881553e+09  1017.000000   120.000000    21.000000   \n",
       "75%      3.750000  8.886553e+09  1343.500000   147.750000    63.250000   \n",
       "max      5.000000  9.876543e+09  1500.000000   180.000000    89.000000   \n",
       "\n",
       "       calls_connected  \n",
       "count         6.000000  \n",
       "mean         32.833333  \n",
       "std          31.858542  \n",
       "min          10.000000  \n",
       "25%          11.250000  \n",
       "50%          14.500000  \n",
       "75%          54.500000  \n",
       "max          80.000000  "
      ]
     },
     "execution_count": 39,
     "metadata": {},
     "output_type": "execute_result"
    }
   ],
   "source": [
    "daily_data.describe()"
   ]
  },
  {
   "cell_type": "markdown",
   "metadata": {},
   "source": [
    "We are calculating the Roaming_flag. \n",
    "\n",
    " Roaming_flag is set to 'Y' when home_circle and active_circle differs.\n",
    " \n",
    " Roaming_flag is set to 'N' when home_circle and active_circle is same.\n"
   ]
  },
  {
   "cell_type": "code",
   "execution_count": 40,
   "metadata": {
    "scrolled": true
   },
   "outputs": [
    {
     "name": "stdout",
     "output_type": "stream",
     "text": [
      "   Unnamed: 0  phone_number  data_usage  voice_usage  Home_circle  \\\n",
      "0           0    9876543210        1380          120    Telangana   \n",
      "1           1    8876553210         400          120  Maharashtra   \n",
      "2           2    7876553210        1500          180       Punjab   \n",
      "3           3    7876553210         800          157  Maharashtra   \n",
      "4           4    8886553210        1234          111    Karnataka   \n",
      "5           5    8886553210         200          100      Kolkata   \n",
      "\n",
      "  Active_circle  no_of_calls  calls_connected Roaming_flag  \n",
      "0   Maharashtra           12               10            Y  \n",
      "1   Maharashtra           19               11            N  \n",
      "2    Karanataka           77               67            Y  \n",
      "3    Karanataka           20               17            Y  \n",
      "4       Kolkata           89               80            Y  \n",
      "5    Karanataka           22               12            Y  \n"
     ]
    }
   ],
   "source": [
    "\n",
    "daily_data.loc[daily_data.Home_circle != daily_data.Active_circle, 'Roaming_flag'] = 'Y'\n",
    "daily_data.loc[daily_data.Home_circle == daily_data.Active_circle, 'Roaming_flag'] = 'N'\n",
    "print(daily_data)"
   ]
  },
  {
   "cell_type": "markdown",
   "metadata": {},
   "source": [
    "Now we can see that 'Roaming_flag' is added to our daily_data."
   ]
  },
  {
   "cell_type": "markdown",
   "metadata": {},
   "source": [
    "To calculate data_usage,voice_usage, roaming_percentange per user of all the circles."
   ]
  },
  {
   "cell_type": "code",
   "execution_count": 41,
   "metadata": {
    "scrolled": true
   },
   "outputs": [],
   "source": [
    "\n",
    "user_data = daily_data.groupby(['phone_number']).agg({'data_usage' : 'sum','voice_usage': 'sum','Roaming_flag' : lambda val : (val == 'Y').count(),'no_of_calls' : 'sum'})\n"
   ]
  },
  {
   "cell_type": "markdown",
   "metadata": {},
   "source": [
    "Here we are using lambda function for calculating the count of Roaming_flag whose value is 'Y'. The lambdda function in python is very small and contains only one expression. The result of this expression is value which is appiled by the lambda to the argument."
   ]
  },
  {
   "cell_type": "code",
   "execution_count": 42,
   "metadata": {},
   "outputs": [],
   "source": [
    "\n",
    "user_data['roaming_percentage'] = (user_data['Roaming_flag'] /user_data['no_of_calls']) * 100"
   ]
  },
  {
   "cell_type": "markdown",
   "metadata": {},
   "source": [
    "We are calculating roaming_percentage by dividing Roaming_flag with no_of_calls."
   ]
  },
  {
   "cell_type": "code",
   "execution_count": 43,
   "metadata": {},
   "outputs": [],
   "source": [
    "user_data.reset_index(inplace=True)"
   ]
  },
  {
   "cell_type": "markdown",
   "metadata": {},
   "source": [
    "For user_report, we need data_usage, voice_usage, roaming_percentage columns, so we are copying those columns from user dataframe."
   ]
  },
  {
   "cell_type": "code",
   "execution_count": 44,
   "metadata": {},
   "outputs": [
    {
     "name": "stdout",
     "output_type": "stream",
     "text": [
      "   phone_number  data_usage  voice_usage  roaming_percentage\n",
      "0    7876553210        2300          337            2.061856\n",
      "1    8876553210         400          120            5.263158\n",
      "2    8886553210        1434          211            1.801802\n",
      "3    9876543210        1380          120            8.333333\n"
     ]
    }
   ],
   "source": [
    "user_report = user_data[['phone_number','data_usage','voice_usage','roaming_percentage']].copy()\n",
    "print(user_report)"
   ]
  },
  {
   "cell_type": "markdown",
   "metadata": {},
   "source": [
    "Now, we can able to see the user report of all the circles."
   ]
  },
  {
   "cell_type": "markdown",
   "metadata": {},
   "source": [
    "To calculate call_drop_percentage per circle of all the home circles.\n"
   ]
  },
  {
   "cell_type": "code",
   "execution_count": 45,
   "metadata": {},
   "outputs": [],
   "source": [
    "daily_data['call_drop'] = ((daily_data['no_of_calls'] - daily_data['calls_connected'])/daily_data['no_of_calls']) * 100"
   ]
  },
  {
   "cell_type": "markdown",
   "metadata": {},
   "source": [
    "To calculate data_usage, voice_usage per circle of all the circles."
   ]
  },
  {
   "cell_type": "code",
   "execution_count": 46,
   "metadata": {},
   "outputs": [],
   "source": [
    "circle_report = daily_data.groupby('Home_circle').agg({'data_usage' : 'sum','voice_usage': 'sum','call_drop' : 'sum' })"
   ]
  },
  {
   "cell_type": "code",
   "execution_count": 47,
   "metadata": {},
   "outputs": [
    {
     "name": "stdout",
     "output_type": "stream",
     "text": [
      "             data_usage  voice_usage  call_drop\n",
      "Home_circle                                    \n",
      "Karnataka          1234          111      10.11\n",
      "Kolkata             200          100      45.45\n",
      "Maharashtra        1200          277      57.11\n",
      "Punjab             1500          180      12.99\n",
      "Telangana          1380          120      16.67\n"
     ]
    }
   ],
   "source": [
    "print(circle_report.round({'call_drop' : 2}))"
   ]
  },
  {
   "cell_type": "code",
   "execution_count": 48,
   "metadata": {},
   "outputs": [
    {
     "name": "stdout",
     "output_type": "stream",
     "text": [
      "   Home_circle  data_usage  voice_usage  call_drop\n",
      "0    Karnataka        1234          111  10.112360\n",
      "1      Kolkata         200          100  45.454545\n",
      "2  Maharashtra        1200          277  57.105263\n",
      "3       Punjab        1500          180  12.987013\n",
      "4    Telangana        1380          120  16.666667\n"
     ]
    }
   ],
   "source": [
    "circle_report.reset_index(inplace=True)\n",
    "print(circle_report)"
   ]
  },
  {
   "cell_type": "markdown",
   "metadata": {},
   "source": [
    "Now , we can able to see the circle_report of all the four circles. Here, we are using round function to round the call_drop upto 2 decimals."
   ]
  },
  {
   "cell_type": "markdown",
   "metadata": {},
   "source": [
    " Business has provided a master_file which contains from which we have to suggest a recharge plan."
   ]
  },
  {
   "cell_type": "code",
   "execution_count": 49,
   "metadata": {},
   "outputs": [
    {
     "data": {
      "text/html": [
       "<div>\n",
       "<style scoped>\n",
       "    .dataframe tbody tr th:only-of-type {\n",
       "        vertical-align: middle;\n",
       "    }\n",
       "\n",
       "    .dataframe tbody tr th {\n",
       "        vertical-align: top;\n",
       "    }\n",
       "\n",
       "    .dataframe thead th {\n",
       "        text-align: right;\n",
       "    }\n",
       "</style>\n",
       "<table border=\"1\" class=\"dataframe\">\n",
       "  <thead>\n",
       "    <tr style=\"text-align: right;\">\n",
       "      <th></th>\n",
       "      <th>Unnamed: 0</th>\n",
       "      <th>plan_id</th>\n",
       "      <th>voice_usage</th>\n",
       "      <th>data_usage</th>\n",
       "      <th>roaming_percentage</th>\n",
       "      <th>amount</th>\n",
       "    </tr>\n",
       "  </thead>\n",
       "  <tbody>\n",
       "    <tr>\n",
       "      <th>0</th>\n",
       "      <td>0</td>\n",
       "      <td>RC07</td>\n",
       "      <td>100</td>\n",
       "      <td>500</td>\n",
       "      <td>30</td>\n",
       "      <td>70</td>\n",
       "    </tr>\n",
       "    <tr>\n",
       "      <th>1</th>\n",
       "      <td>1</td>\n",
       "      <td>RC28</td>\n",
       "      <td>200</td>\n",
       "      <td>1000</td>\n",
       "      <td>30</td>\n",
       "      <td>280</td>\n",
       "    </tr>\n",
       "    <tr>\n",
       "      <th>2</th>\n",
       "      <td>2</td>\n",
       "      <td>RC44</td>\n",
       "      <td>300</td>\n",
       "      <td>1500</td>\n",
       "      <td>0</td>\n",
       "      <td>440</td>\n",
       "    </tr>\n",
       "    <tr>\n",
       "      <th>3</th>\n",
       "      <td>3</td>\n",
       "      <td>RC01</td>\n",
       "      <td>100</td>\n",
       "      <td>0</td>\n",
       "      <td>0</td>\n",
       "      <td>10</td>\n",
       "    </tr>\n",
       "    <tr>\n",
       "      <th>4</th>\n",
       "      <td>4</td>\n",
       "      <td>RC02</td>\n",
       "      <td>100</td>\n",
       "      <td>500</td>\n",
       "      <td>0</td>\n",
       "      <td>20</td>\n",
       "    </tr>\n",
       "  </tbody>\n",
       "</table>\n",
       "</div>"
      ],
      "text/plain": [
       "   Unnamed: 0 plan_id  voice_usage  data_usage  roaming_percentage  amount\n",
       "0           0    RC07          100         500                  30      70\n",
       "1           1    RC28          200        1000                  30     280\n",
       "2           2    RC44          300        1500                   0     440\n",
       "3           3    RC01          100           0                   0      10\n",
       "4           4    RC02          100         500                   0      20"
      ]
     },
     "execution_count": 49,
     "metadata": {},
     "output_type": "execute_result"
    }
   ],
   "source": [
    "master_data.head()"
   ]
  },
  {
   "cell_type": "markdown",
   "metadata": {},
   "source": [
    "This is the master_file which contains the permutations and combinations of a the service volumes.\n",
    "\n",
    "  The volume is in multiples of 100 and, capped to 300 for voice service.\n",
    "  \n",
    "  Similarly, the volume is in multiples of 500 and, capped to 2000 for data service.\n",
    "  \n",
    "  Also the percentage slab for raoming service is 30, and capped to 90.\n",
    "  \n"
   ]
  },
  {
   "cell_type": "code",
   "execution_count": 50,
   "metadata": {},
   "outputs": [],
   "source": [
    "\n",
    "cap_data = user_report"
   ]
  },
  {
   "cell_type": "code",
   "execution_count": 51,
   "metadata": {},
   "outputs": [
    {
     "name": "stdout",
     "output_type": "stream",
     "text": [
      "   phone_number  data_usage  voice_usage  roaming_percentage\n",
      "0    7876553210        2300          337            2.061856\n",
      "1    8876553210         400          120            5.263158\n",
      "2    8886553210        1434          211            1.801802\n",
      "3    9876543210        1380          120            8.333333\n"
     ]
    }
   ],
   "source": [
    "print(cap_data)"
   ]
  },
  {
   "cell_type": "markdown",
   "metadata": {},
   "source": [
    "\n",
    "We are copying the above columns from user dataframe to the cap_data dataframe."
   ]
  },
  {
   "cell_type": "markdown",
   "metadata": {},
   "source": [
    "\n",
    "So, as per the requirement now we have to set caps to the data to suggest a recharge plan to the customer using master_file."
   ]
  },
  {
   "cell_type": "code",
   "execution_count": 52,
   "metadata": {},
   "outputs": [],
   "source": [
    "\n",
    "cap_data.loc[cap_data.voice_usage  <= 100,'voice_usage'] = 100\n",
    "cap_data.loc[(cap_data.voice_usage  > 100) & (cap_data.voice_usage <= 200),'voice_usage'] = 200\n",
    "cap_data.loc[cap_data.voice_usage  > 200,'voice_usage'] = 300"
   ]
  },
  {
   "cell_type": "markdown",
   "metadata": {},
   "source": [
    "The total monthly voice service used by the customer should be rounded to the nearest 100 and a cap should be set to 300."
   ]
  },
  {
   "cell_type": "code",
   "execution_count": 53,
   "metadata": {},
   "outputs": [],
   "source": [
    "cap_data.loc[cap_data.data_usage  <= 500,'data_usage'] = 500\n",
    "cap_data.loc[(cap_data.data_usage  > 500) & (cap_data.data_usage <= 1000),'data_usage'] = 1000\n",
    "cap_data.loc[(cap_data.data_usage  > 1000) & (cap_data.data_usage <= 1500),'data_usage'] = 1500\n",
    "cap_data.loc[cap_data.data_usage  > 1500,'data_usage'] = 2000"
   ]
  },
  {
   "cell_type": "markdown",
   "metadata": {},
   "source": [
    "The monthly data service used by the customer should be rounded to the nearest 500 and a cap should be set to 2000."
   ]
  },
  {
   "cell_type": "code",
   "execution_count": 54,
   "metadata": {},
   "outputs": [],
   "source": [
    "cap_data.loc[cap_data.roaming_percentage  <=int(30),'roaming_percentage'] = int(30)\n",
    "cap_data.loc[(cap_data.roaming_percentage  > int(30)) & (cap_data.roaming_percentage <= int(60)),'voice_usage'] = int(60)\n",
    "cap_data.loc[cap_data.roaming_percentage  > int(60),'voice_usage'] = int(90)"
   ]
  },
  {
   "cell_type": "markdown",
   "metadata": {},
   "source": [
    "\n",
    "Similarly roaming_percentage should be rounded to nearest 30 and a cap is set to 90."
   ]
  },
  {
   "cell_type": "code",
   "execution_count": 55,
   "metadata": {},
   "outputs": [
    {
     "name": "stdout",
     "output_type": "stream",
     "text": [
      "   phone_number  data_usage  voice_usage  roaming_percentage\n",
      "0    7876553210        2000          300                30.0\n",
      "1    8876553210         500          200                30.0\n",
      "2    8886553210        1500          300                30.0\n",
      "3    9876543210        1500          200                30.0\n"
     ]
    }
   ],
   "source": [
    "\n",
    "print(cap_data)"
   ]
  },
  {
   "cell_type": "markdown",
   "metadata": {},
   "source": [
    "This is the capped data."
   ]
  },
  {
   "cell_type": "code",
   "execution_count": 56,
   "metadata": {},
   "outputs": [],
   "source": [
    "\n",
    "recharge_plan_gen = pd.merge(left=master_data,right=cap_data,left_on=['data_usage','voice_usage','roaming_percentage'], right_on=['data_usage','voice_usage','roaming_percentage'])"
   ]
  },
  {
   "cell_type": "markdown",
   "metadata": {},
   "source": [
    "\n",
    "\n",
    "Here, I am using merge operation which  acts with an “inner” merge or \"inner\" join. An inner merge, (or inner join) keeps only the common values in both the left and right dataframes. \n",
    "\n",
    "I am taking data_usage, voice_usage, roaming_percentage as my keys, if those keys matches, it will suggest an appropriate recharge plan to the customer from master_file."
   ]
  },
  {
   "cell_type": "code",
   "execution_count": 57,
   "metadata": {},
   "outputs": [
    {
     "name": "stdout",
     "output_type": "stream",
     "text": [
      "   phone_number plan_id  amount\n",
      "0    8876553210    RC27     270\n",
      "1    9876543210    RC29     290\n",
      "2    8886553210    RC49     490\n",
      "3    7876553210    RC50     500\n"
     ]
    }
   ],
   "source": [
    "generated_plan = recharge_plan_gen[['phone_number','plan_id','amount']].copy()\n",
    "print(generated_plan)"
   ]
  },
  {
   "cell_type": "markdown",
   "metadata": {},
   "source": [
    "Now, based on his/her service usage we have suggested  a recharge  plan to the customer for his upcoming month. "
   ]
  },
  {
   "cell_type": "code",
   "execution_count": 58,
   "metadata": {},
   "outputs": [],
   "source": [
    "export_recharge_plan_gen = generated_plan.to_excel(r'C:\\Users\\mkiranmayi\\Desktop\\recharge_plan_gen.xlsx')\n",
    "export_user_report = user_report.to_excel(r'C:\\Users\\mkiranmayi\\Desktop\\user_report.xlsx')\n",
    "export_circle_report = circle_report.to_excel(r'C:\\Users\\mkiranmayi\\Desktop\\circle_report.xlsx')"
   ]
  },
  {
   "cell_type": "markdown",
   "metadata": {},
   "source": [
    "Finally, we are exporting reports to desktop."
   ]
  },
  {
   "cell_type": "code",
   "execution_count": 59,
   "metadata": {},
   "outputs": [
    {
     "data": {
      "text/plain": [
       "Text(0.5, 1.0, 'Service usage representation per circle')"
      ]
     },
     "execution_count": 59,
     "metadata": {},
     "output_type": "execute_result"
    },
    {
     "data": {
      "image/png": "[encoded data removed]",
      "text/plain": [
       "<Figure size 432x288 with 1 Axes>"
      ]
     },
     "metadata": {
      "needs_background": "light"
     },
     "output_type": "display_data"
    }
   ],
   "source": [
    "ax = circle_report.plot.bar(x = 'Home_circle', y = ['voice_usage','data_usage','call_drop'])\n",
    "ply.ylabel('service volumes')\n",
    "ply.title('Service usage representation per circle')\n",
    "                            "
   ]
  },
  {
   "cell_type": "markdown",
   "metadata": {},
   "source": [
    "Data visualization is the easiest way to analyze and absorb information. They help in identifying patterns, relationships, and outliers in data. It helps in understanding business problems better and quickly."
   ]
  },
  {
   "cell_type": "code",
   "execution_count": null,
   "metadata": {},
   "outputs": [],
   "source": []
  },
  {
   "cell_type": "code",
   "execution_count": null,
   "metadata": {},
   "outputs": [],
   "source": []
  }
 ],
 "metadata": {
  "kernelspec": {
   "display_name": "Python 3",
   "language": "python",
   "name": "python3"
  },
  "language_info": {
   "codemirror_mode": {
    "name": "ipython",
    "version": 3
   },
   "file_extension": ".py",
   "mimetype": "text/x-python",
   "name": "python",
   "nbconvert_exporter": "python",
   "pygments_lexer": "ipython3",
   "version": "3.7.3"
  }
 },
 "nbformat": 4,
 "nbformat_minor": 2
}
